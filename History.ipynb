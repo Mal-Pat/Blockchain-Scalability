{
 "cells": [
  {
   "cell_type": "markdown",
   "metadata": {},
   "source": [
    "# History of Params"
   ]
  },
  {
   "cell_type": "code",
   "execution_count": null,
   "metadata": {},
   "outputs": [],
   "source": [
    "ntwk_params = {\n",
    "    \"n\" : 1000,\n",
    "    \"pareto_param\" : 1.1,\n",
    "    \"bandwidth_factor\" : 10,\n",
    "    \"active_prob\" : 1,\n",
    "}\n",
    "ntwk_seeds = {\n",
    "    \"scatter\" : 1,\n",
    "    \"power\" : 2,\n",
    "    \"activity\" : 3\n",
    "}"
   ]
  },
  {
   "cell_type": "code",
   "execution_count": null,
   "metadata": {},
   "outputs": [],
   "source": [
    "pow_params1 = {\n",
    "    \"run_time\" : 2000,\n",
    "    \"avg_mine_time\" : 100,\n",
    "    \"max_n_transactions\" : 1000,\n",
    "    \"avg_signal_noise\" : 5,\n",
    "    \"activate\" : 0,\n",
    "    \"deactivate\" : 0,\n",
    "    \"avg_transaction_rate\" : 50\n",
    "}\n",
    "pow_seeds1 = {\n",
    "    \"poisson_noise\" : 14,\n",
    "    \"poisson_new_transactions\" : 15,\n",
    "    \"uniform_activity\" : 16,\n",
    "    \"exponential_minetime\" : 17\n",
    "}"
   ]
  }
 ],
 "metadata": {
  "language_info": {
   "name": "python"
  }
 },
 "nbformat": 4,
 "nbformat_minor": 2
}
